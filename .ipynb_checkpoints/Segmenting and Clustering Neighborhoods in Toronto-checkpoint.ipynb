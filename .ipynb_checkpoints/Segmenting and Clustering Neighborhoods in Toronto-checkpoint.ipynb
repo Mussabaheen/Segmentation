{
 "cells": [
  {
   "cell_type": "markdown",
   "metadata": {},
   "source": [
    "<h1 align=center><font size = 5>Segmenting and Clustering Neighborhoods in Toronto</font></h1>"
   ]
  },
  {
   "cell_type": "markdown",
   "metadata": {},
   "source": [
    "## Introduction\n",
    "\n",
    "In this project I explore, segment, and cluster the neighborhoods in the city of Toronto. The neighborhood data though is not readily available on the internet. \n",
    "\n",
    "For the Toronto neighborhood data, a Wikipedia page: https://en.wikipedia.org/wiki/List_of_postal_codes_of_Canada:_M exists that has all the information we need to explore and cluster the neighborhoods in Toronto. We will have to scrape the Wikipedia page and wrangle the data, clean it, and then read it into a pandas dataframe so that it is in a structured format.\n",
    "\n",
    "Once the data is in a structured format, we can start the analysis to explore and cluster the neighborhoods in the city of Toronto.\n",
    "\n",
    "We build the code to scrape the following Wikipedia page, https://en.wikipedia.org/wiki/List_of_postal_codes_of_Canada:_M, in order to obtain the data that is in the table of postal codes and to transform the data into a pandas dataframe.\n",
    "\n",
    "The dataframe will consist of three columns: PostalCode, Borough, and Neighborhood.\n",
    "We only process the cells that have an assigned borough. We ignore cells with a borough that is Not assigned.\n",
    "More than one neighborhood can exist in one postal code area. For example, in the table on the Wikipedia page, you will notice that M5A is listed twice and has two neighborhoods: Harbourfront and Regent Park. These two rows will be combined into one row with the neighborhoods separated with a comma.\n",
    "If a cell has a borough but a Not assigned neighborhood, then the neighborhood will be the same as the borough. So for the 9th cell in the table on the Wikipedia page, the value of the Borough and the Neighborhood columns will be Queen's Park.\n",
    "\n",
    "There are different website scraping libraries and packages in Python. One of the most common packages is BeautifulSoup and we will use it in this project. \n",
    "Package's main documentation page: http://beautiful-soup-4.readthedocs.io/en/latest/\n"
   ]
  },
  {
   "cell_type": "markdown",
   "metadata": {},
   "source": [
    "Before we get the data and start exploring it, let's download all the dependencies that we will need."
   ]
  },
  {
   "cell_type": "code",
   "execution_count": 7,
   "metadata": {},
   "outputs": [
    {
     "name": "stdout",
     "output_type": "stream",
     "text": [
      "Collecting geopy\n",
      "\u001b[?25l  Downloading https://files.pythonhosted.org/packages/53/fc/3d1b47e8e82ea12c25203929efb1b964918a77067a874b2c7631e2ec35ec/geopy-1.21.0-py2.py3-none-any.whl (104kB)\n",
      "\u001b[K     |████████████████████████████████| 112kB 138kB/s eta 0:00:01\n",
      "\u001b[?25hCollecting geographiclib<2,>=1.49 (from geopy)\n",
      "  Downloading https://files.pythonhosted.org/packages/8b/62/26ec95a98ba64299163199e95ad1b0e34ad3f4e176e221c40245f211e425/geographiclib-1.50-py3-none-any.whl\n",
      "Installing collected packages: geographiclib, geopy\n",
      "Successfully installed geographiclib-1.50 geopy-1.21.0\n"
     ]
    }
   ],
   "source": [
    "!pip install geopy"
   ]
  },
  {
   "cell_type": "code",
   "execution_count": 8,
   "metadata": {},
   "outputs": [
    {
     "name": "stdout",
     "output_type": "stream",
     "text": [
      "Libraries imported.\n"
     ]
    }
   ],
   "source": [
    "import numpy as np # library to handle data in a vectorized manner\n",
    "import pandas as pd # library for data analsysis\n",
    "pd.set_option('display.max_columns', None)\n",
    "pd.set_option('display.max_rows', None)\n",
    "import json # library to handle JSON files\n",
    "#!conda install -c conda-forge geopy --yes # uncomment this line if you haven't completed the Foursquare API lab\n",
    "from geopy.geocoders import Nominatim # convert an address into latitude and longitude values\n",
    "import requests # library to handle requests\n",
    "from pandas.io.json import json_normalize # tranform JSON file into a pandas dataframe\n",
    "# Matplotlib and associated plotting modules\n",
    "import matplotlib.cm as cm\n",
    "import matplotlib.colors as colors\n",
    "# import k-means from clustering stage\n",
    "from sklearn.cluster import KMeans\n",
    "from sklearn.datasets.samples_generator import make_blobs\n",
    "#!conda install -c conda-forge folium=0.5.0 --yes # uncomment this line if you haven't completed the Foursquare API lab\n",
    "import folium # map rendering library\n",
    "from bs4 import BeautifulSoup\n",
    "import lxml\n",
    "print('Libraries imported.')"
   ]
  },
  {
   "cell_type": "markdown",
   "metadata": {},
   "source": [
    "<a id='item1'></a>"
   ]
  },
  {
   "cell_type": "markdown",
   "metadata": {},
   "source": [
    "## Download, scrape and wrangle"
   ]
  },
  {
   "cell_type": "code",
   "execution_count": 9,
   "metadata": {
    "scrolled": true
   },
   "outputs": [
    {
     "data": {
      "text/html": [
       "<div>\n",
       "<style scoped>\n",
       "    .dataframe tbody tr th:only-of-type {\n",
       "        vertical-align: middle;\n",
       "    }\n",
       "\n",
       "    .dataframe tbody tr th {\n",
       "        vertical-align: top;\n",
       "    }\n",
       "\n",
       "    .dataframe thead th {\n",
       "        text-align: right;\n",
       "    }\n",
       "</style>\n",
       "<table border=\"1\" class=\"dataframe\">\n",
       "  <thead>\n",
       "    <tr style=\"text-align: right;\">\n",
       "      <th></th>\n",
       "      <th>Postcode</th>\n",
       "      <th>Borough</th>\n",
       "      <th>Neighborhood</th>\n",
       "    </tr>\n",
       "  </thead>\n",
       "  <tbody>\n",
       "    <tr>\n",
       "      <td>0</td>\n",
       "      <td>M3A</td>\n",
       "      <td>North York</td>\n",
       "      <td>Parkwoods</td>\n",
       "    </tr>\n",
       "    <tr>\n",
       "      <td>1</td>\n",
       "      <td>M4A</td>\n",
       "      <td>North York</td>\n",
       "      <td>Victoria Village</td>\n",
       "    </tr>\n",
       "    <tr>\n",
       "      <td>2</td>\n",
       "      <td>M5A</td>\n",
       "      <td>Downtown Toronto</td>\n",
       "      <td>Regent Park</td>\n",
       "    </tr>\n",
       "    <tr>\n",
       "      <td>3</td>\n",
       "      <td>M6A</td>\n",
       "      <td>North York</td>\n",
       "      <td>Lawrence Heights, Lawrence Manor</td>\n",
       "    </tr>\n",
       "    <tr>\n",
       "      <td>4</td>\n",
       "      <td>M7A</td>\n",
       "      <td>Downtown Toronto</td>\n",
       "      <td>Queen's Park</td>\n",
       "    </tr>\n",
       "  </tbody>\n",
       "</table>\n",
       "</div>"
      ],
      "text/plain": [
       "  Postcode           Borough                      Neighborhood\n",
       "0      M3A        North York                         Parkwoods\n",
       "1      M4A        North York                  Victoria Village\n",
       "2      M5A  Downtown Toronto                       Regent Park\n",
       "3      M6A        North York  Lawrence Heights, Lawrence Manor\n",
       "4      M7A  Downtown Toronto                     Queen's Park "
      ]
     },
     "execution_count": 9,
     "metadata": {},
     "output_type": "execute_result"
    }
   ],
   "source": [
    "# download data and parse it:\n",
    "r = requests.get('https://en.wikipedia.org/wiki/List_of_postal_codes_of_Canada:_M')\n",
    "soup = BeautifulSoup(r.text, 'html.parser')\n",
    "table=soup.find('table', attrs={'class':'wikitable sortable'})\n",
    "\n",
    "#get headers:\n",
    "headers=table.findAll('th')\n",
    "for i, head in enumerate(headers): headers[i]=str(headers[i]).replace(\"<th>\",\"\").replace(\"</th>\",\"\").replace(\"\\n\",\"\")\n",
    "\n",
    "#Find all items and skip first one:\n",
    "rows=table.findAll('tr')\n",
    "rows=rows[1:len(rows)]\n",
    "\n",
    "# skip all meta symbols and line feeds between rows:\n",
    "for i, row in enumerate(rows): rows[i] = str(rows[i]).replace(\"\\n</td></tr>\",\"\").replace(\"<tr>\\n<td>\",\"\")\n",
    "\n",
    "# make dataframe, expand rows and drop the old one:\n",
    "df=pd.DataFrame(rows)\n",
    "df[headers] = df[0].str.split(\"</td>\\n<td>\", n = 2, expand = True) \n",
    "df.drop(columns=[0],inplace=True)\n",
    "\n",
    "# skip not assigned boroughs:\n",
    "df = df.drop(df[(df.Borough == \"Not assigned\")].index)\n",
    "# give \"Not assigned\" Neighborhoods same name as Borough:\n",
    "df.Neighbourhood.replace(\"Not assigned\", df.Borough, inplace=True)\n",
    "\n",
    "# copy Borough value to Neighborhood if NaN:\n",
    "df.Neighbourhood.fillna(df.Borough, inplace=True)\n",
    "# drop duplicate rows:\n",
    "df=df.drop_duplicates()\n",
    "\n",
    "# extract titles from columns\n",
    "df.update(\n",
    "    df.Neighbourhood.loc[\n",
    "        lambda x: x.str.contains('title')\n",
    "    ].str.extract('title=\\\"([^\\\"]*)',expand=False))\n",
    "\n",
    "df.update(\n",
    "    df.Borough.loc[\n",
    "        lambda x: x.str.contains('title')\n",
    "    ].str.extract('title=\\\"([^\\\"]*)',expand=False))\n",
    "\n",
    "# delete Toronto annotation from Neighbourhood:\n",
    "df.update(\n",
    "    df.Neighbourhood.loc[\n",
    "        lambda x: x.str.contains('Toronto')\n",
    "    ].str.replace(\", Toronto\",\"\"))\n",
    "df.update(\n",
    "    df.Neighbourhood.loc[\n",
    "        lambda x: x.str.contains('Toronto')\n",
    "    ].str.replace(\"\\(Toronto\\)\",\"\"))\n",
    "\n",
    "# combine multiple neighborhoods with the same post code\n",
    "df2 = pd.DataFrame({'Postcode':df.Postcode.unique()})\n",
    "df2['Borough']=pd.DataFrame(list(set(df['Borough'].loc[df['Postcode'] == x['Postcode']])) for i, x in df2.iterrows())\n",
    "df2['Neighborhood']=pd.Series(list(set(df['Neighbourhood'].loc[df['Postcode'] == x['Postcode']])) for i, x in df2.iterrows())\n",
    "df2['Neighborhood']=df2['Neighborhood'].apply(lambda x: ', '.join(x))\n",
    "df2.dtypes\n",
    "\n",
    "df2.head()"
   ]
  },
  {
   "cell_type": "code",
   "execution_count": 10,
   "metadata": {},
   "outputs": [
    {
     "data": {
      "text/html": [
       "<div>\n",
       "<style scoped>\n",
       "    .dataframe tbody tr th:only-of-type {\n",
       "        vertical-align: middle;\n",
       "    }\n",
       "\n",
       "    .dataframe tbody tr th {\n",
       "        vertical-align: top;\n",
       "    }\n",
       "\n",
       "    .dataframe thead th {\n",
       "        text-align: right;\n",
       "    }\n",
       "</style>\n",
       "<table border=\"1\" class=\"dataframe\">\n",
       "  <thead>\n",
       "    <tr style=\"text-align: right;\">\n",
       "      <th></th>\n",
       "      <th>Postcode</th>\n",
       "      <th>Borough</th>\n",
       "      <th>Neighborhood</th>\n",
       "      <th>Latitude</th>\n",
       "      <th>Longitude</th>\n",
       "    </tr>\n",
       "  </thead>\n",
       "  <tbody>\n",
       "    <tr>\n",
       "      <td>0</td>\n",
       "      <td>M3A</td>\n",
       "      <td>North York</td>\n",
       "      <td>Parkwoods</td>\n",
       "      <td>43.753259</td>\n",
       "      <td>-79.329656</td>\n",
       "    </tr>\n",
       "    <tr>\n",
       "      <td>1</td>\n",
       "      <td>M4A</td>\n",
       "      <td>North York</td>\n",
       "      <td>Victoria Village</td>\n",
       "      <td>43.725882</td>\n",
       "      <td>-79.315572</td>\n",
       "    </tr>\n",
       "    <tr>\n",
       "      <td>2</td>\n",
       "      <td>M5A</td>\n",
       "      <td>Downtown Toronto</td>\n",
       "      <td>Regent Park</td>\n",
       "      <td>43.654260</td>\n",
       "      <td>-79.360636</td>\n",
       "    </tr>\n",
       "    <tr>\n",
       "      <td>3</td>\n",
       "      <td>M6A</td>\n",
       "      <td>North York</td>\n",
       "      <td>Lawrence Heights, Lawrence Manor</td>\n",
       "      <td>43.718518</td>\n",
       "      <td>-79.464763</td>\n",
       "    </tr>\n",
       "    <tr>\n",
       "      <td>4</td>\n",
       "      <td>M7A</td>\n",
       "      <td>Downtown Toronto</td>\n",
       "      <td>Queen's Park</td>\n",
       "      <td>43.662301</td>\n",
       "      <td>-79.389494</td>\n",
       "    </tr>\n",
       "  </tbody>\n",
       "</table>\n",
       "</div>"
      ],
      "text/plain": [
       "  Postcode           Borough                      Neighborhood   Latitude  \\\n",
       "0      M3A        North York                         Parkwoods  43.753259   \n",
       "1      M4A        North York                  Victoria Village  43.725882   \n",
       "2      M5A  Downtown Toronto                       Regent Park  43.654260   \n",
       "3      M6A        North York  Lawrence Heights, Lawrence Manor  43.718518   \n",
       "4      M7A  Downtown Toronto                     Queen's Park   43.662301   \n",
       "\n",
       "   Longitude  \n",
       "0 -79.329656  \n",
       "1 -79.315572  \n",
       "2 -79.360636  \n",
       "3 -79.464763  \n",
       "4 -79.389494  "
      ]
     },
     "execution_count": 10,
     "metadata": {},
     "output_type": "execute_result"
    }
   ],
   "source": [
    "#add Geo-spatial data\n",
    "dfll= pd.read_csv(\"http://cocl.us/Geospatial_data\")\n",
    "dfll.rename(columns={'Postal Code':'Postcode'}, inplace=True)\n",
    "dfll.set_index(\"Postcode\")\n",
    "df2.set_index(\"Postcode\")\n",
    "toronto_data=pd.merge(df2, dfll)\n",
    "toronto_data.head()"
   ]
  },
  {
   "cell_type": "markdown",
   "metadata": {},
   "source": [
    "In order to define an instance of the geocoder, we need to define a user_agent. We will name our agent <em>to_explorer</em>, as shown below."
   ]
  },
  {
   "cell_type": "code",
   "execution_count": 11,
   "metadata": {
    "scrolled": true
   },
   "outputs": [
    {
     "name": "stdout",
     "output_type": "stream",
     "text": [
      "The geograpical coordinate of Toronto, ON, Canada are 43.653963, -79.387207.\n"
     ]
    }
   ],
   "source": [
    "address = 'Toronto, ON, Canada'\n",
    "\n",
    "geolocator = Nominatim(user_agent=\"to_explorer\")\n",
    "location = geolocator.geocode(address)\n",
    "latitude = location.latitude\n",
    "longitude = location.longitude\n",
    "print('The geograpical coordinate of Toronto, ON, Canada are {}, {}.'.format(latitude, longitude))"
   ]
  },
  {
   "cell_type": "markdown",
   "metadata": {},
   "source": [
    "#### Create a map of Toronto with neighborhoods superimposed on top."
   ]
  },
  {
   "cell_type": "code",
   "execution_count": 12,
   "metadata": {},
   "outputs": [
    {
     "data": {
      "text/html": [
       "<div style=\"width:100%;\"><div style=\"position:relative;width:100%;height:0;padding-bottom:60%;\"><iframe src=\"about:blank\" style=\"position:absolute;width:100%;height:100%;left:0;top:0;border:none !important;\" data-html=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 onload=\"this.contentDocument.open();this.contentDocument.write(atob(this.getAttribute('data-html')));this.contentDocument.close();\" allowfullscreen webkitallowfullscreen mozallowfullscreen></iframe></div></div>"
      ],
      "text/plain": [
       "<folium.folium.Map at 0x1a219209d0>"
      ]
     },
     "execution_count": 12,
     "metadata": {},
     "output_type": "execute_result"
    }
   ],
   "source": [
    "# create map of New York using latitude and longitude values\n",
    "map_toronto = folium.Map(location=[latitude, longitude], zoom_start=10)\n",
    "\n",
    "# add markers to map\n",
    "for lat, lng, borough, neighborhood in zip(toronto_data['Latitude'], toronto_data['Longitude'], toronto_data['Borough'], toronto_data['Neighborhood']):\n",
    "    label = '{}, {}'.format(neighborhood, borough)\n",
    "    label = folium.Popup(label, parse_html=True)\n",
    "    folium.CircleMarker(\n",
    "        [lat, lng],\n",
    "        radius=5,\n",
    "        popup=label,\n",
    "        color='blue',\n",
    "        fill=True,\n",
    "        fill_color='#3186cc',\n",
    "        fill_opacity=0.7,\n",
    "        parse_html=False).add_to(map_toronto)  \n",
    "    \n",
    "map_toronto"
   ]
  },
  {
   "cell_type": "markdown",
   "metadata": {},
   "source": [
    "Next, we are going to start utilizing the Foursquare API to explore the neighborhoods and segment them."
   ]
  },
  {
   "cell_type": "markdown",
   "metadata": {},
   "source": [
    "#### Define Foursquare Credentials and Version"
   ]
  },
  {
   "cell_type": "code",
   "execution_count": 13,
   "metadata": {},
   "outputs": [
    {
     "name": "stdout",
     "output_type": "stream",
     "text": [
      "Your credentails:\n",
      "CLIENT_ID: JBREGZ4UNA53HX43WMAD4TQ2X2XJWMX5DPHEZEIZHQA0ACNP\n",
      "CLIENT_SECRET:VNS40KF3V4MGSWWAV0IGQINZIGIT1EQKNCWBFPOS3QF1JMOJ\n"
     ]
    }
   ],
   "source": [
    "CLIENT_ID = 'JBREGZ4UNA53HX43WMAD4TQ2X2XJWMX5DPHEZEIZHQA0ACNP' # your Foursquare ID\n",
    "CLIENT_SECRET = 'VNS40KF3V4MGSWWAV0IGQINZIGIT1EQKNCWBFPOS3QF1JMOJ' # your Foursquare Secret\n",
    "VERSION = '20180605' # Foursquare API version\n",
    "\n",
    "print('Your credentails:')\n",
    "print('CLIENT_ID: ' + CLIENT_ID)\n",
    "print('CLIENT_SECRET:' + CLIENT_SECRET)"
   ]
  },
  {
   "cell_type": "markdown",
   "metadata": {},
   "source": [
    "#### Let's explore the first neighborhood in our dataframe."
   ]
  },
  {
   "cell_type": "markdown",
   "metadata": {},
   "source": [
    "Get the neighborhood's name."
   ]
  },
  {
   "cell_type": "code",
   "execution_count": 14,
   "metadata": {},
   "outputs": [
    {
     "data": {
      "text/plain": [
       "'Parkwoods'"
      ]
     },
     "execution_count": 14,
     "metadata": {},
     "output_type": "execute_result"
    }
   ],
   "source": [
    "toronto_data.loc[0, 'Neighborhood']"
   ]
  },
  {
   "cell_type": "markdown",
   "metadata": {},
   "source": [
    "Get the neighborhood's latitude and longitude values."
   ]
  },
  {
   "cell_type": "code",
   "execution_count": 15,
   "metadata": {},
   "outputs": [
    {
     "name": "stdout",
     "output_type": "stream",
     "text": [
      "Latitude and longitude values of Parkwoods are 43.7532586, -79.3296565.\n"
     ]
    }
   ],
   "source": [
    "neighborhood_latitude = toronto_data.loc[0, 'Latitude'] # neighborhood latitude value\n",
    "neighborhood_longitude = toronto_data.loc[0, 'Longitude'] # neighborhood longitude value\n",
    "\n",
    "neighborhood_name = toronto_data.loc[0, 'Neighborhood'] # neighborhood name\n",
    "\n",
    "print('Latitude and longitude values of {} are {}, {}.'.format(neighborhood_name, \n",
    "                                                               neighborhood_latitude, \n",
    "                                                               neighborhood_longitude))"
   ]
  },
  {
   "cell_type": "markdown",
   "metadata": {},
   "source": [
    "#### Now, let's get the top 100 venues that are in Marble Hill within a radius of 500 meters."
   ]
  },
  {
   "cell_type": "markdown",
   "metadata": {},
   "source": [
    "First, let's create the GET request URL. Name your URL **url**."
   ]
  },
  {
   "cell_type": "code",
   "execution_count": 16,
   "metadata": {
    "scrolled": true
   },
   "outputs": [
    {
     "data": {
      "text/plain": [
       "'https://api.foursquare.com/v2/venues/explore?&client_id=JBREGZ4UNA53HX43WMAD4TQ2X2XJWMX5DPHEZEIZHQA0ACNP&client_secret=VNS40KF3V4MGSWWAV0IGQINZIGIT1EQKNCWBFPOS3QF1JMOJ&v=20180605&ll=43.7532586,-79.3296565&radius=500&limit=100'"
      ]
     },
     "execution_count": 16,
     "metadata": {},
     "output_type": "execute_result"
    }
   ],
   "source": [
    "LIMIT = 100 # limit of number of venues returned by Foursquare API\n",
    "radius = 500 # define radius\n",
    "url = 'https://api.foursquare.com/v2/venues/explore?&client_id={}&client_secret={}&v={}&ll={},{}&radius={}&limit={}'.format(\n",
    "    CLIENT_ID, \n",
    "    CLIENT_SECRET, \n",
    "    VERSION, \n",
    "    neighborhood_latitude, \n",
    "    neighborhood_longitude, \n",
    "    radius, \n",
    "    LIMIT)\n",
    "url # display URL\n"
   ]
  },
  {
   "cell_type": "markdown",
   "metadata": {},
   "source": [
    "Send the GET request and examine the resutls"
   ]
  },
  {
   "cell_type": "code",
   "execution_count": 17,
   "metadata": {},
   "outputs": [
    {
     "data": {
      "text/plain": [
       "{'meta': {'code': 200, 'requestId': '5e6117de882fc7001b060791'},\n",
       " 'response': {'warning': {'text': \"There aren't a lot of results near you. Try something more general, reset your filters, or expand the search area.\"},\n",
       "  'headerLocation': 'Parkwoods - Donalda',\n",
       "  'headerFullLocation': 'Parkwoods - Donalda, Toronto',\n",
       "  'headerLocationGranularity': 'neighborhood',\n",
       "  'totalResults': 2,\n",
       "  'suggestedBounds': {'ne': {'lat': 43.757758604500005,\n",
       "    'lng': -79.32343823984928},\n",
       "   'sw': {'lat': 43.7487585955, 'lng': -79.33587476015072}},\n",
       "  'groups': [{'type': 'Recommended Places',\n",
       "    'name': 'recommended',\n",
       "    'items': [{'reasons': {'count': 0,\n",
       "       'items': [{'summary': 'This spot is popular',\n",
       "         'type': 'general',\n",
       "         'reasonName': 'globalInteractionReason'}]},\n",
       "      'venue': {'id': '4e8d9dcdd5fbbbb6b3003c7b',\n",
       "       'name': 'Brookbanks Park',\n",
       "       'location': {'address': 'Toronto',\n",
       "        'lat': 43.751976046055574,\n",
       "        'lng': -79.33214044722958,\n",
       "        'labeledLatLngs': [{'label': 'display',\n",
       "          'lat': 43.751976046055574,\n",
       "          'lng': -79.33214044722958}],\n",
       "        'distance': 245,\n",
       "        'cc': 'CA',\n",
       "        'city': 'Toronto',\n",
       "        'state': 'ON',\n",
       "        'country': 'Canada',\n",
       "        'formattedAddress': ['Toronto', 'Toronto ON', 'Canada']},\n",
       "       'categories': [{'id': '4bf58dd8d48988d163941735',\n",
       "         'name': 'Park',\n",
       "         'pluralName': 'Parks',\n",
       "         'shortName': 'Park',\n",
       "         'icon': {'prefix': 'https://ss3.4sqi.net/img/categories_v2/parks_outdoors/park_',\n",
       "          'suffix': '.png'},\n",
       "         'primary': True}],\n",
       "       'photos': {'count': 0, 'groups': []}},\n",
       "      'referralId': 'e-0-4e8d9dcdd5fbbbb6b3003c7b-0'},\n",
       "     {'reasons': {'count': 0,\n",
       "       'items': [{'summary': 'This spot is popular',\n",
       "         'type': 'general',\n",
       "         'reasonName': 'globalInteractionReason'}]},\n",
       "      'venue': {'id': '4cb11e2075ebb60cd1c4caad',\n",
       "       'name': 'Variety Store',\n",
       "       'location': {'address': '29 Valley Woods Road',\n",
       "        'lat': 43.75197441585782,\n",
       "        'lng': -79.33311418516017,\n",
       "        'labeledLatLngs': [{'label': 'display',\n",
       "          'lat': 43.75197441585782,\n",
       "          'lng': -79.33311418516017}],\n",
       "        'distance': 312,\n",
       "        'cc': 'CA',\n",
       "        'city': 'Toronto',\n",
       "        'state': 'ON',\n",
       "        'country': 'Canada',\n",
       "        'formattedAddress': ['29 Valley Woods Road', 'Toronto ON', 'Canada']},\n",
       "       'categories': [{'id': '4bf58dd8d48988d1f9941735',\n",
       "         'name': 'Food & Drink Shop',\n",
       "         'pluralName': 'Food & Drink Shops',\n",
       "         'shortName': 'Food & Drink',\n",
       "         'icon': {'prefix': 'https://ss3.4sqi.net/img/categories_v2/shops/foodanddrink_',\n",
       "          'suffix': '.png'},\n",
       "         'primary': True}],\n",
       "       'photos': {'count': 0, 'groups': []}},\n",
       "      'referralId': 'e-0-4cb11e2075ebb60cd1c4caad-1'}]}]}}"
      ]
     },
     "execution_count": 17,
     "metadata": {},
     "output_type": "execute_result"
    }
   ],
   "source": [
    "results = requests.get(url).json()\n",
    "results"
   ]
  },
  {
   "cell_type": "markdown",
   "metadata": {},
   "source": [
    "From the Foursquare lab in the previous module, we know that all the information is in the *items* key. Before we proceed, let's borrow the **get_category_type** function from the Foursquare lab."
   ]
  },
  {
   "cell_type": "code",
   "execution_count": 18,
   "metadata": {},
   "outputs": [],
   "source": [
    "# function that extracts the category of the venue\n",
    "def get_category_type(row):\n",
    "    try:\n",
    "        categories_list = row['categories']\n",
    "    except:\n",
    "        categories_list = row['venue.categories']\n",
    "        \n",
    "    if len(categories_list) == 0:\n",
    "        return None\n",
    "    else:\n",
    "        return categories_list[0]['name']"
   ]
  },
  {
   "cell_type": "markdown",
   "metadata": {},
   "source": [
    "Now we are ready to clean the json and structure it into a *pandas* dataframe."
   ]
  },
  {
   "cell_type": "code",
   "execution_count": 19,
   "metadata": {},
   "outputs": [
    {
     "data": {
      "text/html": [
       "<div>\n",
       "<style scoped>\n",
       "    .dataframe tbody tr th:only-of-type {\n",
       "        vertical-align: middle;\n",
       "    }\n",
       "\n",
       "    .dataframe tbody tr th {\n",
       "        vertical-align: top;\n",
       "    }\n",
       "\n",
       "    .dataframe thead th {\n",
       "        text-align: right;\n",
       "    }\n",
       "</style>\n",
       "<table border=\"1\" class=\"dataframe\">\n",
       "  <thead>\n",
       "    <tr style=\"text-align: right;\">\n",
       "      <th></th>\n",
       "      <th>name</th>\n",
       "      <th>categories</th>\n",
       "      <th>lat</th>\n",
       "      <th>lng</th>\n",
       "    </tr>\n",
       "  </thead>\n",
       "  <tbody>\n",
       "    <tr>\n",
       "      <td>0</td>\n",
       "      <td>Brookbanks Park</td>\n",
       "      <td>Park</td>\n",
       "      <td>43.751976</td>\n",
       "      <td>-79.332140</td>\n",
       "    </tr>\n",
       "    <tr>\n",
       "      <td>1</td>\n",
       "      <td>Variety Store</td>\n",
       "      <td>Food &amp; Drink Shop</td>\n",
       "      <td>43.751974</td>\n",
       "      <td>-79.333114</td>\n",
       "    </tr>\n",
       "  </tbody>\n",
       "</table>\n",
       "</div>"
      ],
      "text/plain": [
       "              name         categories        lat        lng\n",
       "0  Brookbanks Park               Park  43.751976 -79.332140\n",
       "1    Variety Store  Food & Drink Shop  43.751974 -79.333114"
      ]
     },
     "execution_count": 19,
     "metadata": {},
     "output_type": "execute_result"
    }
   ],
   "source": [
    "venues = results['response']['groups'][0]['items']\n",
    "    \n",
    "nearby_venues = json_normalize(venues) # flatten JSON\n",
    "\n",
    "# filter columns\n",
    "filtered_columns = ['venue.name', 'venue.categories', 'venue.location.lat', 'venue.location.lng']\n",
    "nearby_venues =nearby_venues.loc[:, filtered_columns]\n",
    "\n",
    "# filter the category for each row\n",
    "nearby_venues['venue.categories'] = nearby_venues.apply(get_category_type, axis=1)\n",
    "\n",
    "# clean columns\n",
    "nearby_venues.columns = [col.split(\".\")[-1] for col in nearby_venues.columns]\n",
    "\n",
    "nearby_venues.head()"
   ]
  },
  {
   "cell_type": "markdown",
   "metadata": {},
   "source": [
    "And how many venues were returned by Foursquare?"
   ]
  },
  {
   "cell_type": "code",
   "execution_count": 20,
   "metadata": {},
   "outputs": [
    {
     "name": "stdout",
     "output_type": "stream",
     "text": [
      "2 venues were returned by Foursquare.\n"
     ]
    }
   ],
   "source": [
    "print('{} venues were returned by Foursquare.'.format(nearby_venues.shape[0]))"
   ]
  },
  {
   "cell_type": "markdown",
   "metadata": {},
   "source": [
    "<a id='item2'></a>"
   ]
  },
  {
   "cell_type": "markdown",
   "metadata": {},
   "source": [
    "## Explore Neighborhoods in Toronto"
   ]
  },
  {
   "cell_type": "markdown",
   "metadata": {},
   "source": [
    "#### Let's create a function to repeat the same process to all the neighborhoods."
   ]
  },
  {
   "cell_type": "code",
   "execution_count": 21,
   "metadata": {},
   "outputs": [],
   "source": [
    "def getNearbyVenues(names, latitudes, longitudes, radius=500):\n",
    "    \n",
    "    venues_list=[]\n",
    "    for name, lat, lng in zip(names, latitudes, longitudes):\n",
    "        print(name)\n",
    "            \n",
    "        # create the API request URL\n",
    "        url = 'https://api.foursquare.com/v2/venues/explore?&client_id={}&client_secret={}&v={}&ll={},{}&radius={}&limit={}'.format(\n",
    "            CLIENT_ID, \n",
    "            CLIENT_SECRET, \n",
    "            VERSION, \n",
    "            lat, \n",
    "            lng, \n",
    "            radius, \n",
    "            LIMIT)\n",
    "            \n",
    "        # make the GET request\n",
    "        results = requests.get(url).json()[\"response\"]['groups'][0]['items']\n",
    "        \n",
    "        # return only relevant information for each nearby venue\n",
    "        venues_list.append([(\n",
    "            name, \n",
    "            lat, \n",
    "            lng, \n",
    "            v['venue']['name'], \n",
    "            v['venue']['location']['lat'], \n",
    "            v['venue']['location']['lng'],  \n",
    "            v['venue']['categories'][0]['name']) for v in results])\n",
    "\n",
    "    nearby_venues = pd.DataFrame([item for venue_list in venues_list for item in venue_list])\n",
    "    nearby_venues.columns = ['Neighborhood', \n",
    "                  'Neighborhood Latitude', \n",
    "                  'Neighborhood Longitude', \n",
    "                  'Venue', \n",
    "                  'Venue Latitude', \n",
    "                  'Venue Longitude', \n",
    "                  'Venue Category']\n",
    "    \n",
    "    return(nearby_venues)"
   ]
  },
  {
   "cell_type": "markdown",
   "metadata": {},
   "source": [
    "#### Now write the code to run the above function on each neighborhood and create a new dataframe called *manhattan_venues*."
   ]
  },
  {
   "cell_type": "code",
   "execution_count": null,
   "metadata": {
    "scrolled": true
   },
   "outputs": [
    {
     "name": "stdout",
     "output_type": "stream",
     "text": [
      "Parkwoods\n",
      "Victoria Village\n",
      "Regent Park\n",
      "Lawrence Heights, Lawrence Manor\n",
      "Queen's Park \n",
      "Islington Avenue\n",
      "Malvern, Rouge\n",
      "Don Mills North\n",
      "Woodbine Gardens, Parkview Hill\n",
      "Garden District, Ryerson\n",
      "Glencairn\n",
      "Islington, Princess Gardens, Cloverdale, West Deane Park, Martin Grove\n",
      "Port Union, Rouge Hill, Highland Creek \n",
      "Flemingdon Park, Don Mills South\n",
      "Woodbine Heights\n",
      "St. James Town\n",
      "Humewood-Cedarvale\n",
      "Eringate, Old Burnhamthorpe, Bloordale Gardens, Markland Wood\n",
      "West Hill, Guildwood, Morningside\n",
      "The Beaches\n",
      "Berczy Park\n",
      "Caledonia-Fairbanks\n",
      "Woburn\n",
      "Leaside\n",
      "Central Bay Street\n",
      "Christie\n",
      "Cedarbrae\n",
      "Hillcrest Village\n",
      "Bathurst Manor, Downsview North, Wilson Heights\n",
      "Thorncliffe Park\n",
      "King, Adelaide, Richmond\n",
      "Dovercourt Village, Dufferin\n",
      "Scarborough Village\n",
      "Fairview, Henry Farm, Oriole\n",
      "Northwood Park, York University\n",
      "East Toronto\n",
      "Toronto Islands, Union Station , Harbourfront East\n",
      "Trinity–Bellwoods, Little Portugal\n",
      "East Birchmount Park, Ionview, Kennedy Park\n",
      "Bayview Village\n",
      "Downsview East, CFB Toronto\n",
      "Riverdale, The Danforth West\n",
      "Design Exchange, Toronto Dominion Centre\n",
      "Parkdale Village, Exhibition Place, Brockton\n"
     ]
    }
   ],
   "source": [
    "# type your answer here\n",
    "\n",
    "toronto_venues = getNearbyVenues(names=toronto_data['Neighborhood'],\n",
    "                                   latitudes=toronto_data['Latitude'],\n",
    "                                   longitudes=toronto_data['Longitude']\n",
    "                                  )\n",
    "\n"
   ]
  },
  {
   "cell_type": "markdown",
   "metadata": {},
   "source": [
    "#### Let's check the size of the resulting dataframe"
   ]
  },
  {
   "cell_type": "code",
   "execution_count": null,
   "metadata": {},
   "outputs": [],
   "source": [
    "print(toronto_venues.shape)\n",
    "toronto_venues.head()"
   ]
  },
  {
   "cell_type": "markdown",
   "metadata": {},
   "source": [
    "Let's check how many venues were returned for each neighborhood"
   ]
  },
  {
   "cell_type": "code",
   "execution_count": null,
   "metadata": {},
   "outputs": [],
   "source": [
    "toronto_venues.groupby('Neighborhood').count()"
   ]
  },
  {
   "cell_type": "markdown",
   "metadata": {},
   "source": [
    "#### Let's find out how many unique categories can be curated from all the returned venues"
   ]
  },
  {
   "cell_type": "code",
   "execution_count": null,
   "metadata": {},
   "outputs": [],
   "source": [
    "print('There are {} uniques categories.'.format(len(toronto_venues['Venue Category'].unique())))"
   ]
  },
  {
   "cell_type": "markdown",
   "metadata": {},
   "source": [
    "<a id='item3'></a>"
   ]
  },
  {
   "cell_type": "markdown",
   "metadata": {},
   "source": [
    "## Analyze Each Neighborhood"
   ]
  },
  {
   "cell_type": "code",
   "execution_count": null,
   "metadata": {},
   "outputs": [],
   "source": [
    "# one hot encoding\n",
    "toronto_onehot = pd.get_dummies(toronto_venues[['Venue Category']], prefix=\"\", prefix_sep=\"\")\n",
    "\n",
    "# add neighborhood column back to dataframe\n",
    "toronto_onehot['Neighborhood'] = toronto_venues['Neighborhood'] \n",
    "\n",
    "# move neighborhood column to the first column\n",
    "fixed_columns = [toronto_onehot.columns[-1]] + list(toronto_onehot.columns[:-1])\n",
    "toronto_onehot = toronto_onehot[fixed_columns]\n",
    "\n",
    "toronto_onehot.head()"
   ]
  },
  {
   "cell_type": "markdown",
   "metadata": {},
   "source": [
    "And let's examine the new dataframe size."
   ]
  },
  {
   "cell_type": "code",
   "execution_count": null,
   "metadata": {},
   "outputs": [],
   "source": [
    "toronto_onehot.shape"
   ]
  },
  {
   "cell_type": "markdown",
   "metadata": {},
   "source": [
    "#### Next, let's group rows by neighborhood and by taking the mean of the frequency of occurrence of each category"
   ]
  },
  {
   "cell_type": "code",
   "execution_count": null,
   "metadata": {},
   "outputs": [],
   "source": [
    "toronto_grouped = toronto_onehot.groupby('Neighborhood').mean().reset_index()\n",
    "toronto_grouped"
   ]
  },
  {
   "cell_type": "markdown",
   "metadata": {},
   "source": [
    "#### Let's confirm the new size"
   ]
  },
  {
   "cell_type": "code",
   "execution_count": null,
   "metadata": {},
   "outputs": [],
   "source": [
    "toronto_grouped.shape"
   ]
  },
  {
   "cell_type": "markdown",
   "metadata": {},
   "source": [
    "#### Let's print each neighborhood along with the top 5 most common venues"
   ]
  },
  {
   "cell_type": "code",
   "execution_count": null,
   "metadata": {},
   "outputs": [],
   "source": [
    "num_top_venues = 5\n",
    "\n",
    "for hood in toronto_grouped['Neighborhood']:\n",
    "    print(\"----\"+hood+\"----\")\n",
    "    temp = toronto_grouped[toronto_grouped['Neighborhood'] == hood].T.reset_index()\n",
    "    temp.columns = ['venue','freq']\n",
    "    temp = temp.iloc[1:]\n",
    "    temp['freq'] = temp['freq'].astype(float)\n",
    "    temp = temp.round({'freq': 2})\n",
    "    print(temp.sort_values('freq', ascending=False).reset_index(drop=True).head(num_top_venues))\n",
    "    print('\\n')"
   ]
  },
  {
   "cell_type": "markdown",
   "metadata": {},
   "source": [
    "#### Let's put that into a *pandas* dataframe"
   ]
  },
  {
   "cell_type": "markdown",
   "metadata": {},
   "source": [
    "First, let's write a function to sort the venues in descending order."
   ]
  },
  {
   "cell_type": "code",
   "execution_count": null,
   "metadata": {},
   "outputs": [],
   "source": [
    "def return_most_common_venues(row, num_top_venues):\n",
    "    row_categories = row.iloc[1:]\n",
    "    row_categories_sorted = row_categories.sort_values(ascending=False)\n",
    "    \n",
    "    return row_categories_sorted.index.values[0:num_top_venues]"
   ]
  },
  {
   "cell_type": "markdown",
   "metadata": {},
   "source": [
    "Now let's create the new dataframe and display the top 10 venues for each neighborhood."
   ]
  },
  {
   "cell_type": "code",
   "execution_count": null,
   "metadata": {},
   "outputs": [],
   "source": [
    "num_top_venues = 10\n",
    "\n",
    "indicators = ['st', 'nd', 'rd']\n",
    "\n",
    "# create columns according to number of top venues\n",
    "columns = ['Neighborhood']\n",
    "for ind in np.arange(num_top_venues):\n",
    "    try:\n",
    "        columns.append('{}{} Most Common Venue'.format(ind+1, indicators[ind]))\n",
    "    except:\n",
    "        columns.append('{}th Most Common Venue'.format(ind+1))\n",
    "\n",
    "# create a new dataframe\n",
    "neighborhoods_venues_sorted = pd.DataFrame(columns=columns)\n",
    "neighborhoods_venues_sorted['Neighborhood'] = toronto_grouped['Neighborhood']\n",
    "\n",
    "for ind in np.arange(toronto_grouped.shape[0]):\n",
    "    neighborhoods_venues_sorted.iloc[ind, 1:] = return_most_common_venues(toronto_grouped.iloc[ind, :], num_top_venues)\n",
    "\n",
    "neighborhoods_venues_sorted.head()"
   ]
  },
  {
   "cell_type": "markdown",
   "metadata": {},
   "source": [
    "<a id='item4'></a>"
   ]
  },
  {
   "cell_type": "markdown",
   "metadata": {},
   "source": [
    "## 4. Cluster Neighborhoods"
   ]
  },
  {
   "cell_type": "markdown",
   "metadata": {},
   "source": [
    "Run *k*-means to cluster the neighborhood into 5 clusters."
   ]
  },
  {
   "cell_type": "code",
   "execution_count": null,
   "metadata": {},
   "outputs": [],
   "source": [
    "# set number of clusters\n",
    "kclusters = 5\n",
    "\n",
    "toronto_grouped_clustering = toronto_grouped.drop('Neighborhood', 1)\n",
    "\n",
    "# run k-means clustering\n",
    "kmeans = KMeans(n_clusters=kclusters, random_state=0).fit(toronto_grouped_clustering)\n",
    "\n",
    "# check cluster labels generated for each row in the dataframe\n",
    "kmeans.labels_[0:10] "
   ]
  },
  {
   "cell_type": "markdown",
   "metadata": {},
   "source": [
    "Let's create a new dataframe that includes the cluster as well as the top 10 venues for each neighborhood."
   ]
  },
  {
   "cell_type": "code",
   "execution_count": null,
   "metadata": {},
   "outputs": [],
   "source": [
    "# add clustering labels\n",
    "neighborhoods_venues_sorted.insert(0, 'Cluster Labels', kmeans.labels_)\n",
    "\n",
    "toronto_merged = toronto_data\n",
    "\n",
    "# merge toronto_grouped with toronto_data to add latitude/longitude for each neighborhood\n",
    "toronto_merged = toronto_merged.join(neighborhoods_venues_sorted.set_index('Neighborhood'), on='Neighborhood')\n",
    "\n",
    "\n",
    "\n",
    "# check the last columns!\n",
    "toronto_merged.head()\n"
   ]
  },
  {
   "cell_type": "markdown",
   "metadata": {},
   "source": [
    "Finally, let's visualize the resulting clusters"
   ]
  },
  {
   "cell_type": "code",
   "execution_count": null,
   "metadata": {},
   "outputs": [],
   "source": [
    "# create map\n",
    "map_clusters = folium.Map(location=[latitude, longitude], zoom_start=11)\n",
    "\n",
    "# set color scheme for the clusters\n",
    "x = np.arange(kclusters)\n",
    "ys = [i + x + (i*x)**2 for i in range(kclusters)]\n",
    "colors_array = cm.rainbow(np.linspace(0, 1, len(ys)))\n",
    "rainbow = [colors.rgb2hex(i) for i in colors_array]\n",
    "\n",
    "# add markers to the map\n",
    "markers_colors = []\n",
    "for lat, lon, poi, cluster in zip(toronto_merged['Latitude'], toronto_merged['Longitude'], toronto_merged['Neighborhood'], toronto_merged['Cluster Labels']):\n",
    "    label = folium.Popup(str(poi) + ' Cluster ' + str(cluster), parse_html=True)\n",
    "    folium.CircleMarker(\n",
    "        [lat, lon],\n",
    "        radius=5,\n",
    "        popup=label,\n",
    "        #color=rainbow[cluster-1],\n",
    "        fill=True,\n",
    "        #fill_color=rainbow[cluster-1],\n",
    "        fill_opacity=0.7).add_to(map_clusters)\n",
    "       \n",
    "map_clusters"
   ]
  },
  {
   "cell_type": "markdown",
   "metadata": {},
   "source": [
    "<a id='item5'></a>"
   ]
  },
  {
   "cell_type": "markdown",
   "metadata": {},
   "source": [
    "## 5. Examine Clusters"
   ]
  },
  {
   "cell_type": "markdown",
   "metadata": {},
   "source": [
    "Now, you can examine each cluster and determine the discriminating venue categories that distinguish each cluster. Based on the defining categories, you can then assign a name to each cluster. I will leave this exercise to you."
   ]
  },
  {
   "cell_type": "markdown",
   "metadata": {},
   "source": [
    "#### Cluster 1"
   ]
  },
  {
   "cell_type": "code",
   "execution_count": null,
   "metadata": {},
   "outputs": [],
   "source": [
    "toronto_merged.loc[toronto_merged['Cluster Labels'] == 0, toronto_merged.columns[[1] + list(range(5, toronto_merged.shape[1]))]]"
   ]
  },
  {
   "cell_type": "markdown",
   "metadata": {},
   "source": [
    "#### Cluster 2"
   ]
  },
  {
   "cell_type": "code",
   "execution_count": null,
   "metadata": {},
   "outputs": [],
   "source": [
    "toronto_merged.loc[toronto_merged['Cluster Labels'] == 1, toronto_merged.columns[[1] + list(range(5, toronto_merged.shape[1]))]]"
   ]
  },
  {
   "cell_type": "markdown",
   "metadata": {},
   "source": [
    "#### Cluster 3"
   ]
  },
  {
   "cell_type": "code",
   "execution_count": null,
   "metadata": {},
   "outputs": [],
   "source": [
    "toronto_merged.loc[toronto_merged['Cluster Labels'] == 2, toronto_merged.columns[[1] + list(range(5, toronto_merged.shape[1]))]]"
   ]
  },
  {
   "cell_type": "markdown",
   "metadata": {},
   "source": [
    "#### Cluster 4"
   ]
  },
  {
   "cell_type": "code",
   "execution_count": null,
   "metadata": {},
   "outputs": [],
   "source": [
    "toronto_merged.loc[toronto_merged['Cluster Labels'] == 3, toronto_merged.columns[[1] + list(range(5, toronto_merged.shape[1]))]]"
   ]
  },
  {
   "cell_type": "markdown",
   "metadata": {},
   "source": [
    "#### Cluster 5"
   ]
  },
  {
   "cell_type": "code",
   "execution_count": null,
   "metadata": {},
   "outputs": [],
   "source": [
    "toronto_merged.loc[toronto_merged['Cluster Labels'] == 4, toronto_merged.columns[[1] + list(range(5, toronto_merged.shape[1]))]]"
   ]
  },
  {
   "cell_type": "code",
   "execution_count": null,
   "metadata": {},
   "outputs": [],
   "source": []
  }
 ],
 "metadata": {
  "kernelspec": {
   "display_name": "Python 3",
   "language": "python",
   "name": "python3"
  },
  "language_info": {
   "codemirror_mode": {
    "name": "ipython",
    "version": 3
   },
   "file_extension": ".py",
   "mimetype": "text/x-python",
   "name": "python",
   "nbconvert_exporter": "python",
   "pygments_lexer": "ipython3",
   "version": "3.7.4"
  },
  "widgets": {
   "state": {},
   "version": "1.1.2"
  }
 },
 "nbformat": 4,
 "nbformat_minor": 2
}
